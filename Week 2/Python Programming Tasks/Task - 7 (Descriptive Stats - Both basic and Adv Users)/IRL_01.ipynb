{
  "nbformat": 4,
  "nbformat_minor": 0,
  "metadata": {
    "colab": {
      "name": "IRL_01.ipynb",
      "provenance": [],
      "collapsed_sections": [
        "iEf9ZtmJEOwL",
        "a1A4NNemAbMW",
        "WMceCTdlG77F",
        "qRJhTROeLozx",
        "0gsowEf5gb3U",
        "wnZXid6DlIHv",
        "I_A_RK3voLU_",
        "Z5CREOJmOjx1",
        "TCRJT8peO1gW",
        "qeWGHmCOPdqm",
        "glVOEcxzP4cn",
        "KaNEAtytQCZG",
        "7eRzUlHXQGdm",
        "yQQEUOGFQ6NG",
        "gqm7fMCxayi8",
        "atitMBCubQhd",
        "QQX9yD2Gc3AN",
        "CWfbEhPze3BO",
        "gjpX-4I2faA-",
        "AvV6lTotgj1k"
      ]
    },
    "kernelspec": {
      "name": "python3",
      "display_name": "Python 3"
    },
    "language_info": {
      "name": "python"
    }
  },
  "cells": [
    {
      "cell_type": "markdown",
      "source": [
        "# Dataset to be used for demonstration purpose :\n",
        "[Link](https://drive.google.com/file/d/1QOtpfiJwZ1SEzAWZT9iQWBxsx1DBntJk/view?usp=sharing)"
      ],
      "metadata": {
        "id": "iEf9ZtmJEOwL"
      }
    },
    {
      "cell_type": "code",
      "execution_count": 1,
      "metadata": {
        "colab": {
          "base_uri": "https://localhost:8080/",
          "height": 0
        },
        "id": "JydTuCoe_NU4",
        "outputId": "d958c79d-734b-40bb-ac38-d5c8d4c95839"
      },
      "outputs": [
        {
          "output_type": "execute_result",
          "data": {
            "text/plain": [
              "   Mthly_HH_Income  Mthly_HH_Expense  No_of_Fly_Members  Emi_or_Rent_Amt  \\\n",
              "0             5000              8000                  3             2000   \n",
              "1             6000              7000                  2             3000   \n",
              "2            10000              4500                  2                0   \n",
              "3            10000              2000                  1                0   \n",
              "4            12500             12000                  2             3000   \n",
              "\n",
              "   Annual_HH_Income Highest_Qualified_Member  No_of_Earning_Members  \n",
              "0             64200           Under-Graduate                      1  \n",
              "1             79920               Illiterate                      1  \n",
              "2            112800           Under-Graduate                      1  \n",
              "3             97200               Illiterate                      1  \n",
              "4            147000                 Graduate                      1  "
            ],
            "text/html": [
              "\n",
              "  <div id=\"df-0b79f0a4-35d1-49a7-9314-832f365f70d0\">\n",
              "    <div class=\"colab-df-container\">\n",
              "      <div>\n",
              "<style scoped>\n",
              "    .dataframe tbody tr th:only-of-type {\n",
              "        vertical-align: middle;\n",
              "    }\n",
              "\n",
              "    .dataframe tbody tr th {\n",
              "        vertical-align: top;\n",
              "    }\n",
              "\n",
              "    .dataframe thead th {\n",
              "        text-align: right;\n",
              "    }\n",
              "</style>\n",
              "<table border=\"1\" class=\"dataframe\">\n",
              "  <thead>\n",
              "    <tr style=\"text-align: right;\">\n",
              "      <th></th>\n",
              "      <th>Mthly_HH_Income</th>\n",
              "      <th>Mthly_HH_Expense</th>\n",
              "      <th>No_of_Fly_Members</th>\n",
              "      <th>Emi_or_Rent_Amt</th>\n",
              "      <th>Annual_HH_Income</th>\n",
              "      <th>Highest_Qualified_Member</th>\n",
              "      <th>No_of_Earning_Members</th>\n",
              "    </tr>\n",
              "  </thead>\n",
              "  <tbody>\n",
              "    <tr>\n",
              "      <th>0</th>\n",
              "      <td>5000</td>\n",
              "      <td>8000</td>\n",
              "      <td>3</td>\n",
              "      <td>2000</td>\n",
              "      <td>64200</td>\n",
              "      <td>Under-Graduate</td>\n",
              "      <td>1</td>\n",
              "    </tr>\n",
              "    <tr>\n",
              "      <th>1</th>\n",
              "      <td>6000</td>\n",
              "      <td>7000</td>\n",
              "      <td>2</td>\n",
              "      <td>3000</td>\n",
              "      <td>79920</td>\n",
              "      <td>Illiterate</td>\n",
              "      <td>1</td>\n",
              "    </tr>\n",
              "    <tr>\n",
              "      <th>2</th>\n",
              "      <td>10000</td>\n",
              "      <td>4500</td>\n",
              "      <td>2</td>\n",
              "      <td>0</td>\n",
              "      <td>112800</td>\n",
              "      <td>Under-Graduate</td>\n",
              "      <td>1</td>\n",
              "    </tr>\n",
              "    <tr>\n",
              "      <th>3</th>\n",
              "      <td>10000</td>\n",
              "      <td>2000</td>\n",
              "      <td>1</td>\n",
              "      <td>0</td>\n",
              "      <td>97200</td>\n",
              "      <td>Illiterate</td>\n",
              "      <td>1</td>\n",
              "    </tr>\n",
              "    <tr>\n",
              "      <th>4</th>\n",
              "      <td>12500</td>\n",
              "      <td>12000</td>\n",
              "      <td>2</td>\n",
              "      <td>3000</td>\n",
              "      <td>147000</td>\n",
              "      <td>Graduate</td>\n",
              "      <td>1</td>\n",
              "    </tr>\n",
              "  </tbody>\n",
              "</table>\n",
              "</div>\n",
              "      <button class=\"colab-df-convert\" onclick=\"convertToInteractive('df-0b79f0a4-35d1-49a7-9314-832f365f70d0')\"\n",
              "              title=\"Convert this dataframe to an interactive table.\"\n",
              "              style=\"display:none;\">\n",
              "        \n",
              "  <svg xmlns=\"http://www.w3.org/2000/svg\" height=\"24px\"viewBox=\"0 0 24 24\"\n",
              "       width=\"24px\">\n",
              "    <path d=\"M0 0h24v24H0V0z\" fill=\"none\"/>\n",
              "    <path d=\"M18.56 5.44l.94 2.06.94-2.06 2.06-.94-2.06-.94-.94-2.06-.94 2.06-2.06.94zm-11 1L8.5 8.5l.94-2.06 2.06-.94-2.06-.94L8.5 2.5l-.94 2.06-2.06.94zm10 10l.94 2.06.94-2.06 2.06-.94-2.06-.94-.94-2.06-.94 2.06-2.06.94z\"/><path d=\"M17.41 7.96l-1.37-1.37c-.4-.4-.92-.59-1.43-.59-.52 0-1.04.2-1.43.59L10.3 9.45l-7.72 7.72c-.78.78-.78 2.05 0 2.83L4 21.41c.39.39.9.59 1.41.59.51 0 1.02-.2 1.41-.59l7.78-7.78 2.81-2.81c.8-.78.8-2.07 0-2.86zM5.41 20L4 18.59l7.72-7.72 1.47 1.35L5.41 20z\"/>\n",
              "  </svg>\n",
              "      </button>\n",
              "      \n",
              "  <style>\n",
              "    .colab-df-container {\n",
              "      display:flex;\n",
              "      flex-wrap:wrap;\n",
              "      gap: 12px;\n",
              "    }\n",
              "\n",
              "    .colab-df-convert {\n",
              "      background-color: #E8F0FE;\n",
              "      border: none;\n",
              "      border-radius: 50%;\n",
              "      cursor: pointer;\n",
              "      display: none;\n",
              "      fill: #1967D2;\n",
              "      height: 32px;\n",
              "      padding: 0 0 0 0;\n",
              "      width: 32px;\n",
              "    }\n",
              "\n",
              "    .colab-df-convert:hover {\n",
              "      background-color: #E2EBFA;\n",
              "      box-shadow: 0px 1px 2px rgba(60, 64, 67, 0.3), 0px 1px 3px 1px rgba(60, 64, 67, 0.15);\n",
              "      fill: #174EA6;\n",
              "    }\n",
              "\n",
              "    [theme=dark] .colab-df-convert {\n",
              "      background-color: #3B4455;\n",
              "      fill: #D2E3FC;\n",
              "    }\n",
              "\n",
              "    [theme=dark] .colab-df-convert:hover {\n",
              "      background-color: #434B5C;\n",
              "      box-shadow: 0px 1px 3px 1px rgba(0, 0, 0, 0.15);\n",
              "      filter: drop-shadow(0px 1px 2px rgba(0, 0, 0, 0.3));\n",
              "      fill: #FFFFFF;\n",
              "    }\n",
              "  </style>\n",
              "\n",
              "      <script>\n",
              "        const buttonEl =\n",
              "          document.querySelector('#df-0b79f0a4-35d1-49a7-9314-832f365f70d0 button.colab-df-convert');\n",
              "        buttonEl.style.display =\n",
              "          google.colab.kernel.accessAllowed ? 'block' : 'none';\n",
              "\n",
              "        async function convertToInteractive(key) {\n",
              "          const element = document.querySelector('#df-0b79f0a4-35d1-49a7-9314-832f365f70d0');\n",
              "          const dataTable =\n",
              "            await google.colab.kernel.invokeFunction('convertToInteractive',\n",
              "                                                     [key], {});\n",
              "          if (!dataTable) return;\n",
              "\n",
              "          const docLinkHtml = 'Like what you see? Visit the ' +\n",
              "            '<a target=\"_blank\" href=https://colab.research.google.com/notebooks/data_table.ipynb>data table notebook</a>'\n",
              "            + ' to learn more about interactive tables.';\n",
              "          element.innerHTML = '';\n",
              "          dataTable['output_type'] = 'display_data';\n",
              "          await google.colab.output.renderOutput(dataTable, element);\n",
              "          const docLink = document.createElement('div');\n",
              "          docLink.innerHTML = docLinkHtml;\n",
              "          element.appendChild(docLink);\n",
              "        }\n",
              "      </script>\n",
              "    </div>\n",
              "  </div>\n",
              "  "
            ]
          },
          "metadata": {},
          "execution_count": 1
        }
      ],
      "source": [
        "import pandas as pd\n",
        "import numpy as np\n",
        "\n",
        "df = pd.read_csv(\"/content/drive/MyDrive/Datasets/IRL/data.csv\")\n",
        "df.head()"
      ]
    },
    {
      "cell_type": "code",
      "source": [
        "df.shape, df.index, df.columns"
      ],
      "metadata": {
        "colab": {
          "base_uri": "https://localhost:8080/"
        },
        "id": "ef95_Lph_7wK",
        "outputId": "edd679b1-85e0-4388-82fa-14d370420845"
      },
      "execution_count": 2,
      "outputs": [
        {
          "output_type": "execute_result",
          "data": {
            "text/plain": [
              "((50, 7),\n",
              " RangeIndex(start=0, stop=50, step=1),\n",
              " Index(['Mthly_HH_Income', 'Mthly_HH_Expense', 'No_of_Fly_Members',\n",
              "        'Emi_or_Rent_Amt', 'Annual_HH_Income', 'Highest_Qualified_Member',\n",
              "        'No_of_Earning_Members'],\n",
              "       dtype='object'))"
            ]
          },
          "metadata": {},
          "execution_count": 2
        }
      ]
    },
    {
      "cell_type": "markdown",
      "source": [
        "# Mean:\n",
        "Mean is average of given numbers and can be calculated by dividing the total sum of given numbers by the total number of numbers.\n",
        "\n",
        "$$\n",
        "mean = \\frac{Σx_i}{n} \\ \\ OR \\ \\ \\frac{\\bar{X}}{n}\n",
        "$$"
      ],
      "metadata": {
        "id": "a1A4NNemAbMW"
      }
    },
    {
      "cell_type": "code",
      "source": [
        "# mean of columns with numeric datatype\n",
        "df.mean()"
      ],
      "metadata": {
        "colab": {
          "base_uri": "https://localhost:8080/"
        },
        "id": "ANqjPsyPFk4J",
        "outputId": "a8d248c2-c946-451c-cdd1-a74492d78cc5"
      },
      "execution_count": 3,
      "outputs": [
        {
          "output_type": "stream",
          "name": "stderr",
          "text": [
            "/usr/local/lib/python3.7/dist-packages/ipykernel_launcher.py:2: FutureWarning: Dropping of nuisance columns in DataFrame reductions (with 'numeric_only=None') is deprecated; in a future version this will raise TypeError.  Select only valid columns before calling the reduction.\n",
            "  \n"
          ]
        },
        {
          "output_type": "execute_result",
          "data": {
            "text/plain": [
              "Mthly_HH_Income           41558.00\n",
              "Mthly_HH_Expense          18818.00\n",
              "No_of_Fly_Members             4.06\n",
              "Emi_or_Rent_Amt            3060.00\n",
              "Annual_HH_Income         490019.04\n",
              "No_of_Earning_Members         1.46\n",
              "dtype: float64"
            ]
          },
          "metadata": {},
          "execution_count": 3
        }
      ]
    },
    {
      "cell_type": "code",
      "source": [
        "# mean of specific column using formula\n",
        "with_formula_mean = df[\"Annual_HH_Income\"].mean()"
      ],
      "metadata": {
        "id": "3RxRmtZHFxDy"
      },
      "execution_count": 4,
      "outputs": []
    },
    {
      "cell_type": "code",
      "source": [
        "# finding mean using formula \n",
        "without_formula_median = df[\"Annual_HH_Income\"].sum() / len(df[\"Annual_HH_Income\"])"
      ],
      "metadata": {
        "id": "tpCCzCPdGHqK"
      },
      "execution_count": 5,
      "outputs": []
    },
    {
      "cell_type": "code",
      "source": [
        "print(with_formula_mean == without_formula_median)"
      ],
      "metadata": {
        "colab": {
          "base_uri": "https://localhost:8080/"
        },
        "id": "vb36qI-DGe5p",
        "outputId": "f9854bbb-3d86-431c-ce66-59fcbe5ebd91"
      },
      "execution_count": 6,
      "outputs": [
        {
          "output_type": "stream",
          "name": "stdout",
          "text": [
            "True\n"
          ]
        }
      ]
    },
    {
      "cell_type": "markdown",
      "source": [
        "# Median:\n",
        "It is middle number in sorted, ascending or descending list of numbers, which indeed can be more decriptive of any data than mean.\n",
        "\n",
        "\n",
        "1.) If n is odd:\n",
        "$$\n",
        "median = \\bigg(\\frac{n+1}{2}\\bigg)^{th} \\ observation\n",
        "$$\n",
        "\n",
        "2.) If n is even:\n",
        "$$\n",
        "median = \\frac{\\bigg(\\frac{n}{2}\\bigg)^{th} \\ + \\ \\bigg(\\frac{n}{2}+1\\bigg)^{th}}{2} \\ observation\n",
        "$$"
      ],
      "metadata": {
        "id": "WMceCTdlG77F"
      }
    },
    {
      "cell_type": "code",
      "source": [
        "# median of columns with numeric datatype\n",
        "df.median()"
      ],
      "metadata": {
        "colab": {
          "base_uri": "https://localhost:8080/"
        },
        "id": "mnd4HQDEGjXY",
        "outputId": "edbe5c75-cc39-404b-f364-0e22300a9c42"
      },
      "execution_count": 7,
      "outputs": [
        {
          "output_type": "stream",
          "name": "stderr",
          "text": [
            "/usr/local/lib/python3.7/dist-packages/ipykernel_launcher.py:2: FutureWarning: Dropping of nuisance columns in DataFrame reductions (with 'numeric_only=None') is deprecated; in a future version this will raise TypeError.  Select only valid columns before calling the reduction.\n",
            "  \n"
          ]
        },
        {
          "output_type": "execute_result",
          "data": {
            "text/plain": [
              "Mthly_HH_Income           35000.0\n",
              "Mthly_HH_Expense          15500.0\n",
              "No_of_Fly_Members             4.0\n",
              "Emi_or_Rent_Amt               0.0\n",
              "Annual_HH_Income         447420.0\n",
              "No_of_Earning_Members         1.0\n",
              "dtype: float64"
            ]
          },
          "metadata": {},
          "execution_count": 7
        }
      ]
    },
    {
      "cell_type": "code",
      "source": [
        "# median of specific column\n",
        "with_formula_median = df[\"Annual_HH_Income\"].median()"
      ],
      "metadata": {
        "id": "JEkcsCSyJR9O"
      },
      "execution_count": 8,
      "outputs": []
    },
    {
      "cell_type": "code",
      "source": [
        "# as 50 observations are there we can sum 24th and 25th term and divide it by 2 of sorted values to get median\n",
        "without_formula_median = (sorted(df[\"Annual_HH_Income\"])[24] + sorted(df[\"Annual_HH_Income\"])[25]) / 2"
      ],
      "metadata": {
        "id": "15pSLOKIJWcu"
      },
      "execution_count": 9,
      "outputs": []
    },
    {
      "cell_type": "code",
      "source": [
        "print(with_formula_median == without_formula_median)"
      ],
      "metadata": {
        "colab": {
          "base_uri": "https://localhost:8080/"
        },
        "id": "E9vr3NT8JeF5",
        "outputId": "dc8f0286-e472-40de-b64f-f621c2d4775c"
      },
      "execution_count": 10,
      "outputs": [
        {
          "output_type": "stream",
          "name": "stdout",
          "text": [
            "True\n"
          ]
        }
      ]
    },
    {
      "cell_type": "markdown",
      "source": [
        "# Mode:\n",
        "Value that appears most frequently in data set.\n",
        "> NOTE: \n",
        "A data can have 0, 1 and more than 1 mode.\n",
        "\n",
        "\n",
        "1.) For grouped:\n",
        "$$\n",
        "mode = L + h\\frac{(f_m - f_1)}{(f_m - f_1) + (f_m - f_2)}\n",
        "$$\n",
        "\n",
        "2.) For ungrouped:\n",
        "$$\n",
        "mode = most \\ repeated \\ frequency\n",
        "$$"
      ],
      "metadata": {
        "id": "qRJhTROeLozx"
      }
    },
    {
      "cell_type": "code",
      "source": [
        "# mode of columns with numeric datatype\n",
        "df.mode()"
      ],
      "metadata": {
        "colab": {
          "base_uri": "https://localhost:8080/",
          "height": 0
        },
        "id": "lkqJHYpcKmJ-",
        "outputId": "8cc436cd-d453-4a74-f449-fd76b26d3d38"
      },
      "execution_count": 11,
      "outputs": [
        {
          "output_type": "execute_result",
          "data": {
            "text/plain": [
              "   Mthly_HH_Income  Mthly_HH_Expense  No_of_Fly_Members  Emi_or_Rent_Amt  \\\n",
              "0            45000             25000                  4                0   \n",
              "\n",
              "   Annual_HH_Income Highest_Qualified_Member  No_of_Earning_Members  \n",
              "0            590400                 Graduate                      1  "
            ],
            "text/html": [
              "\n",
              "  <div id=\"df-00159ba4-c412-416f-93d2-ed239070f23e\">\n",
              "    <div class=\"colab-df-container\">\n",
              "      <div>\n",
              "<style scoped>\n",
              "    .dataframe tbody tr th:only-of-type {\n",
              "        vertical-align: middle;\n",
              "    }\n",
              "\n",
              "    .dataframe tbody tr th {\n",
              "        vertical-align: top;\n",
              "    }\n",
              "\n",
              "    .dataframe thead th {\n",
              "        text-align: right;\n",
              "    }\n",
              "</style>\n",
              "<table border=\"1\" class=\"dataframe\">\n",
              "  <thead>\n",
              "    <tr style=\"text-align: right;\">\n",
              "      <th></th>\n",
              "      <th>Mthly_HH_Income</th>\n",
              "      <th>Mthly_HH_Expense</th>\n",
              "      <th>No_of_Fly_Members</th>\n",
              "      <th>Emi_or_Rent_Amt</th>\n",
              "      <th>Annual_HH_Income</th>\n",
              "      <th>Highest_Qualified_Member</th>\n",
              "      <th>No_of_Earning_Members</th>\n",
              "    </tr>\n",
              "  </thead>\n",
              "  <tbody>\n",
              "    <tr>\n",
              "      <th>0</th>\n",
              "      <td>45000</td>\n",
              "      <td>25000</td>\n",
              "      <td>4</td>\n",
              "      <td>0</td>\n",
              "      <td>590400</td>\n",
              "      <td>Graduate</td>\n",
              "      <td>1</td>\n",
              "    </tr>\n",
              "  </tbody>\n",
              "</table>\n",
              "</div>\n",
              "      <button class=\"colab-df-convert\" onclick=\"convertToInteractive('df-00159ba4-c412-416f-93d2-ed239070f23e')\"\n",
              "              title=\"Convert this dataframe to an interactive table.\"\n",
              "              style=\"display:none;\">\n",
              "        \n",
              "  <svg xmlns=\"http://www.w3.org/2000/svg\" height=\"24px\"viewBox=\"0 0 24 24\"\n",
              "       width=\"24px\">\n",
              "    <path d=\"M0 0h24v24H0V0z\" fill=\"none\"/>\n",
              "    <path d=\"M18.56 5.44l.94 2.06.94-2.06 2.06-.94-2.06-.94-.94-2.06-.94 2.06-2.06.94zm-11 1L8.5 8.5l.94-2.06 2.06-.94-2.06-.94L8.5 2.5l-.94 2.06-2.06.94zm10 10l.94 2.06.94-2.06 2.06-.94-2.06-.94-.94-2.06-.94 2.06-2.06.94z\"/><path d=\"M17.41 7.96l-1.37-1.37c-.4-.4-.92-.59-1.43-.59-.52 0-1.04.2-1.43.59L10.3 9.45l-7.72 7.72c-.78.78-.78 2.05 0 2.83L4 21.41c.39.39.9.59 1.41.59.51 0 1.02-.2 1.41-.59l7.78-7.78 2.81-2.81c.8-.78.8-2.07 0-2.86zM5.41 20L4 18.59l7.72-7.72 1.47 1.35L5.41 20z\"/>\n",
              "  </svg>\n",
              "      </button>\n",
              "      \n",
              "  <style>\n",
              "    .colab-df-container {\n",
              "      display:flex;\n",
              "      flex-wrap:wrap;\n",
              "      gap: 12px;\n",
              "    }\n",
              "\n",
              "    .colab-df-convert {\n",
              "      background-color: #E8F0FE;\n",
              "      border: none;\n",
              "      border-radius: 50%;\n",
              "      cursor: pointer;\n",
              "      display: none;\n",
              "      fill: #1967D2;\n",
              "      height: 32px;\n",
              "      padding: 0 0 0 0;\n",
              "      width: 32px;\n",
              "    }\n",
              "\n",
              "    .colab-df-convert:hover {\n",
              "      background-color: #E2EBFA;\n",
              "      box-shadow: 0px 1px 2px rgba(60, 64, 67, 0.3), 0px 1px 3px 1px rgba(60, 64, 67, 0.15);\n",
              "      fill: #174EA6;\n",
              "    }\n",
              "\n",
              "    [theme=dark] .colab-df-convert {\n",
              "      background-color: #3B4455;\n",
              "      fill: #D2E3FC;\n",
              "    }\n",
              "\n",
              "    [theme=dark] .colab-df-convert:hover {\n",
              "      background-color: #434B5C;\n",
              "      box-shadow: 0px 1px 3px 1px rgba(0, 0, 0, 0.15);\n",
              "      filter: drop-shadow(0px 1px 2px rgba(0, 0, 0, 0.3));\n",
              "      fill: #FFFFFF;\n",
              "    }\n",
              "  </style>\n",
              "\n",
              "      <script>\n",
              "        const buttonEl =\n",
              "          document.querySelector('#df-00159ba4-c412-416f-93d2-ed239070f23e button.colab-df-convert');\n",
              "        buttonEl.style.display =\n",
              "          google.colab.kernel.accessAllowed ? 'block' : 'none';\n",
              "\n",
              "        async function convertToInteractive(key) {\n",
              "          const element = document.querySelector('#df-00159ba4-c412-416f-93d2-ed239070f23e');\n",
              "          const dataTable =\n",
              "            await google.colab.kernel.invokeFunction('convertToInteractive',\n",
              "                                                     [key], {});\n",
              "          if (!dataTable) return;\n",
              "\n",
              "          const docLinkHtml = 'Like what you see? Visit the ' +\n",
              "            '<a target=\"_blank\" href=https://colab.research.google.com/notebooks/data_table.ipynb>data table notebook</a>'\n",
              "            + ' to learn more about interactive tables.';\n",
              "          element.innerHTML = '';\n",
              "          dataTable['output_type'] = 'display_data';\n",
              "          await google.colab.output.renderOutput(dataTable, element);\n",
              "          const docLink = document.createElement('div');\n",
              "          docLink.innerHTML = docLinkHtml;\n",
              "          element.appendChild(docLink);\n",
              "        }\n",
              "      </script>\n",
              "    </div>\n",
              "  </div>\n",
              "  "
            ]
          },
          "metadata": {},
          "execution_count": 11
        }
      ]
    },
    {
      "cell_type": "code",
      "source": [
        "# mode of specific column\n",
        "with_formula_mode = df[\"Annual_HH_Income\"].mode()"
      ],
      "metadata": {
        "id": "0uhR_EwwcvkO"
      },
      "execution_count": 12,
      "outputs": []
    },
    {
      "cell_type": "code",
      "source": [
        "without_formula_mode = max(df[\"Annual_HH_Income\"].values, key = list(df[\"Annual_HH_Income\"].values).count)"
      ],
      "metadata": {
        "id": "xPkTF4Iwc5m-"
      },
      "execution_count": 13,
      "outputs": []
    },
    {
      "cell_type": "code",
      "source": [
        "print(with_formula_mode == without_formula_mode)"
      ],
      "metadata": {
        "colab": {
          "base_uri": "https://localhost:8080/"
        },
        "id": "CPNADm2NdMdZ",
        "outputId": "5b5d28fd-1c2a-40a8-f1dd-27bc77c01fe5"
      },
      "execution_count": 14,
      "outputs": [
        {
          "output_type": "stream",
          "name": "stdout",
          "text": [
            "0    True\n",
            "dtype: bool\n"
          ]
        }
      ]
    },
    {
      "cell_type": "markdown",
      "source": [
        "# Variance:\n",
        "It's value of dispersion which tells how much values are spread from their mean value.\n",
        "\n",
        "$$\n",
        "variance \\ (S^2) = \\frac{Σ (x_i - μ)^2}{n - 1}\n",
        "$$"
      ],
      "metadata": {
        "id": "0gsowEf5gb3U"
      }
    },
    {
      "cell_type": "code",
      "source": [
        "# variance of columns with numeric datatype\n",
        "df.var()"
      ],
      "metadata": {
        "colab": {
          "base_uri": "https://localhost:8080/"
        },
        "id": "5m-bXSfOiXZs",
        "outputId": "e27274f0-ead3-4849-b462-60a1487b3396"
      },
      "execution_count": 15,
      "outputs": [
        {
          "output_type": "stream",
          "name": "stderr",
          "text": [
            "/usr/local/lib/python3.7/dist-packages/ipykernel_launcher.py:2: FutureWarning: Dropping of nuisance columns in DataFrame reductions (with 'numeric_only=None') is deprecated; in a future version this will raise TypeError.  Select only valid columns before calling the reduction.\n",
            "  \n"
          ]
        },
        {
          "output_type": "execute_result",
          "data": {
            "text/plain": [
              "Mthly_HH_Income          6.811009e+08\n",
              "Mthly_HH_Expense         1.461733e+08\n",
              "No_of_Fly_Members        2.302449e+00\n",
              "Emi_or_Rent_Amt          3.895551e+07\n",
              "Annual_HH_Income         1.024869e+11\n",
              "No_of_Earning_Members    5.391837e-01\n",
              "dtype: float64"
            ]
          },
          "metadata": {},
          "execution_count": 15
        }
      ]
    },
    {
      "cell_type": "code",
      "source": [
        "# variance of specific column\n",
        "with_formula_variance = df[\"Annual_HH_Income\"].var()"
      ],
      "metadata": {
        "id": "MfUXa1p8id9-"
      },
      "execution_count": 16,
      "outputs": []
    },
    {
      "cell_type": "code",
      "source": [
        "without_formula_variance = sum((df[\"Annual_HH_Income\"] - df[\"Annual_HH_Income\"].mean())**2) / (len(df[\"Annual_HH_Income\"])-1)"
      ],
      "metadata": {
        "id": "_pFepyUZih3F"
      },
      "execution_count": 17,
      "outputs": []
    },
    {
      "cell_type": "code",
      "source": [
        "print(round(with_formula_variance, 3) == round(without_formula_variance, 3))"
      ],
      "metadata": {
        "colab": {
          "base_uri": "https://localhost:8080/"
        },
        "id": "N8KEQlrOioDP",
        "outputId": "89a2d25e-d598-489f-a375-c6f2656ac24a"
      },
      "execution_count": 18,
      "outputs": [
        {
          "output_type": "stream",
          "name": "stdout",
          "text": [
            "True\n"
          ]
        }
      ]
    },
    {
      "cell_type": "markdown",
      "source": [
        "# Standard Deviation:\n",
        "This is also measure of dispersion among the data. It tells how spread our data is from it's mean value.\n",
        "\n",
        "$$\n",
        "standard \\ deviation \\ (S) = \\sqrt{\\frac{Σ (x_i - μ)^2}{n - 1}}\n",
        "$$"
      ],
      "metadata": {
        "id": "wnZXid6DlIHv"
      }
    },
    {
      "cell_type": "code",
      "source": [
        "# standard deviation of columns with numeric datatype\n",
        "df.std()"
      ],
      "metadata": {
        "colab": {
          "base_uri": "https://localhost:8080/"
        },
        "id": "zfFjxOkcnJCC",
        "outputId": "72227af8-1a24-43d0-f857-ecb93cafa252"
      },
      "execution_count": 19,
      "outputs": [
        {
          "output_type": "stream",
          "name": "stderr",
          "text": [
            "/usr/local/lib/python3.7/dist-packages/ipykernel_launcher.py:2: FutureWarning: Dropping of nuisance columns in DataFrame reductions (with 'numeric_only=None') is deprecated; in a future version this will raise TypeError.  Select only valid columns before calling the reduction.\n",
            "  \n"
          ]
        },
        {
          "output_type": "execute_result",
          "data": {
            "text/plain": [
              "Mthly_HH_Income           26097.908979\n",
              "Mthly_HH_Expense          12090.216824\n",
              "No_of_Fly_Members             1.517382\n",
              "Emi_or_Rent_Amt            6241.434948\n",
              "Annual_HH_Income         320135.792123\n",
              "No_of_Earning_Members         0.734291\n",
              "dtype: float64"
            ]
          },
          "metadata": {},
          "execution_count": 19
        }
      ]
    },
    {
      "cell_type": "code",
      "source": [
        "# standard deviation of specific column\n",
        "with_formula_standard_deviation = df[\"Annual_HH_Income\"].std()"
      ],
      "metadata": {
        "id": "tIhj0FHOnTYY"
      },
      "execution_count": 20,
      "outputs": []
    },
    {
      "cell_type": "code",
      "source": [
        "without_formula_standard_deviation = np.sqrt(sum((df[\"Annual_HH_Income\"] - df[\"Annual_HH_Income\"].mean())**2) / (len(df[\"Annual_HH_Income\"])-1))"
      ],
      "metadata": {
        "id": "5eD0n8DWnbZS"
      },
      "execution_count": 21,
      "outputs": []
    },
    {
      "cell_type": "code",
      "source": [
        "print(round(with_formula_standard_deviation, 3) == round(without_formula_standard_deviation, 3))"
      ],
      "metadata": {
        "colab": {
          "base_uri": "https://localhost:8080/"
        },
        "id": "EPvaFv3Enjse",
        "outputId": "82ce3abd-f874-4749-b98d-3c00e8bf25bf"
      },
      "execution_count": 22,
      "outputs": [
        {
          "output_type": "stream",
          "name": "stdout",
          "text": [
            "True\n"
          ]
        }
      ]
    },
    {
      "cell_type": "markdown",
      "source": [
        "# Correlation:\n",
        "It's measure of relationship among the variable. In other words it's measure of linear correlation between two sets of data. \n",
        "\n",
        "The *Pearson Co-efficient* lies between `-1 to 1`. \n",
        "\n",
        "-1 being negatively related to 1 being positively related.\n",
        "\n",
        "$$\n",
        "Correlation \\ Co-efficient \\ (r) = \\frac{Σ (x_i - \\bar{x}) \\ (y_i - \\bar{y}) )}{\\sqrt{Σ (x_i - \\bar{x})^2 \\ Σ (y_i - \\bar{y})^2}} \\\\\n",
        "where, \\\\\n",
        "r =\tcorrelation \\ co-efficient \\\\\n",
        "x_{i}\t=\tvalues \\ of \\ the \\ x-variable \\ in \\ a \\ sample \\\\\n",
        "\\bar{x}\t=\tmean \\ of \\ the \\ values \\ of \\ the \\ x-variable \\\\\n",
        "y_{i}\t=\tvalues \\ of the \\ y-variable \\ in \\ a \\ sample \\\\ \n",
        "\\bar{y}\t=\tmean \\ of \\ the \\ values \\ of \\ the \\ y-variable \\\\\n",
        "$$"
      ],
      "metadata": {
        "id": "I_A_RK3voLU_"
      }
    },
    {
      "cell_type": "code",
      "source": [
        "# correlation of columns with numeric datatype\n",
        "df.corr()"
      ],
      "metadata": {
        "colab": {
          "base_uri": "https://localhost:8080/",
          "height": 0
        },
        "id": "7PzOyhvUqQYQ",
        "outputId": "4fa57bd2-3c5b-47fe-f23d-7f3c15509f60"
      },
      "execution_count": 23,
      "outputs": [
        {
          "output_type": "execute_result",
          "data": {
            "text/plain": [
              "                       Mthly_HH_Income  Mthly_HH_Expense  No_of_Fly_Members  \\\n",
              "Mthly_HH_Income               1.000000          0.649215           0.448317   \n",
              "Mthly_HH_Expense              0.649215          1.000000           0.639702   \n",
              "No_of_Fly_Members             0.448317          0.639702           1.000000   \n",
              "Emi_or_Rent_Amt               0.036976          0.405280           0.085808   \n",
              "Annual_HH_Income              0.970315          0.591222           0.430868   \n",
              "No_of_Earning_Members         0.347883          0.311915           0.597482   \n",
              "\n",
              "                       Emi_or_Rent_Amt  Annual_HH_Income  \\\n",
              "Mthly_HH_Income               0.036976          0.970315   \n",
              "Mthly_HH_Expense              0.405280          0.591222   \n",
              "No_of_Fly_Members             0.085808          0.430868   \n",
              "Emi_or_Rent_Amt               1.000000          0.002716   \n",
              "Annual_HH_Income              0.002716          1.000000   \n",
              "No_of_Earning_Members        -0.097431          0.296679   \n",
              "\n",
              "                       No_of_Earning_Members  \n",
              "Mthly_HH_Income                     0.347883  \n",
              "Mthly_HH_Expense                    0.311915  \n",
              "No_of_Fly_Members                   0.597482  \n",
              "Emi_or_Rent_Amt                    -0.097431  \n",
              "Annual_HH_Income                    0.296679  \n",
              "No_of_Earning_Members               1.000000  "
            ],
            "text/html": [
              "\n",
              "  <div id=\"df-9000026e-e10e-4bdb-9e52-e442736c085f\">\n",
              "    <div class=\"colab-df-container\">\n",
              "      <div>\n",
              "<style scoped>\n",
              "    .dataframe tbody tr th:only-of-type {\n",
              "        vertical-align: middle;\n",
              "    }\n",
              "\n",
              "    .dataframe tbody tr th {\n",
              "        vertical-align: top;\n",
              "    }\n",
              "\n",
              "    .dataframe thead th {\n",
              "        text-align: right;\n",
              "    }\n",
              "</style>\n",
              "<table border=\"1\" class=\"dataframe\">\n",
              "  <thead>\n",
              "    <tr style=\"text-align: right;\">\n",
              "      <th></th>\n",
              "      <th>Mthly_HH_Income</th>\n",
              "      <th>Mthly_HH_Expense</th>\n",
              "      <th>No_of_Fly_Members</th>\n",
              "      <th>Emi_or_Rent_Amt</th>\n",
              "      <th>Annual_HH_Income</th>\n",
              "      <th>No_of_Earning_Members</th>\n",
              "    </tr>\n",
              "  </thead>\n",
              "  <tbody>\n",
              "    <tr>\n",
              "      <th>Mthly_HH_Income</th>\n",
              "      <td>1.000000</td>\n",
              "      <td>0.649215</td>\n",
              "      <td>0.448317</td>\n",
              "      <td>0.036976</td>\n",
              "      <td>0.970315</td>\n",
              "      <td>0.347883</td>\n",
              "    </tr>\n",
              "    <tr>\n",
              "      <th>Mthly_HH_Expense</th>\n",
              "      <td>0.649215</td>\n",
              "      <td>1.000000</td>\n",
              "      <td>0.639702</td>\n",
              "      <td>0.405280</td>\n",
              "      <td>0.591222</td>\n",
              "      <td>0.311915</td>\n",
              "    </tr>\n",
              "    <tr>\n",
              "      <th>No_of_Fly_Members</th>\n",
              "      <td>0.448317</td>\n",
              "      <td>0.639702</td>\n",
              "      <td>1.000000</td>\n",
              "      <td>0.085808</td>\n",
              "      <td>0.430868</td>\n",
              "      <td>0.597482</td>\n",
              "    </tr>\n",
              "    <tr>\n",
              "      <th>Emi_or_Rent_Amt</th>\n",
              "      <td>0.036976</td>\n",
              "      <td>0.405280</td>\n",
              "      <td>0.085808</td>\n",
              "      <td>1.000000</td>\n",
              "      <td>0.002716</td>\n",
              "      <td>-0.097431</td>\n",
              "    </tr>\n",
              "    <tr>\n",
              "      <th>Annual_HH_Income</th>\n",
              "      <td>0.970315</td>\n",
              "      <td>0.591222</td>\n",
              "      <td>0.430868</td>\n",
              "      <td>0.002716</td>\n",
              "      <td>1.000000</td>\n",
              "      <td>0.296679</td>\n",
              "    </tr>\n",
              "    <tr>\n",
              "      <th>No_of_Earning_Members</th>\n",
              "      <td>0.347883</td>\n",
              "      <td>0.311915</td>\n",
              "      <td>0.597482</td>\n",
              "      <td>-0.097431</td>\n",
              "      <td>0.296679</td>\n",
              "      <td>1.000000</td>\n",
              "    </tr>\n",
              "  </tbody>\n",
              "</table>\n",
              "</div>\n",
              "      <button class=\"colab-df-convert\" onclick=\"convertToInteractive('df-9000026e-e10e-4bdb-9e52-e442736c085f')\"\n",
              "              title=\"Convert this dataframe to an interactive table.\"\n",
              "              style=\"display:none;\">\n",
              "        \n",
              "  <svg xmlns=\"http://www.w3.org/2000/svg\" height=\"24px\"viewBox=\"0 0 24 24\"\n",
              "       width=\"24px\">\n",
              "    <path d=\"M0 0h24v24H0V0z\" fill=\"none\"/>\n",
              "    <path d=\"M18.56 5.44l.94 2.06.94-2.06 2.06-.94-2.06-.94-.94-2.06-.94 2.06-2.06.94zm-11 1L8.5 8.5l.94-2.06 2.06-.94-2.06-.94L8.5 2.5l-.94 2.06-2.06.94zm10 10l.94 2.06.94-2.06 2.06-.94-2.06-.94-.94-2.06-.94 2.06-2.06.94z\"/><path d=\"M17.41 7.96l-1.37-1.37c-.4-.4-.92-.59-1.43-.59-.52 0-1.04.2-1.43.59L10.3 9.45l-7.72 7.72c-.78.78-.78 2.05 0 2.83L4 21.41c.39.39.9.59 1.41.59.51 0 1.02-.2 1.41-.59l7.78-7.78 2.81-2.81c.8-.78.8-2.07 0-2.86zM5.41 20L4 18.59l7.72-7.72 1.47 1.35L5.41 20z\"/>\n",
              "  </svg>\n",
              "      </button>\n",
              "      \n",
              "  <style>\n",
              "    .colab-df-container {\n",
              "      display:flex;\n",
              "      flex-wrap:wrap;\n",
              "      gap: 12px;\n",
              "    }\n",
              "\n",
              "    .colab-df-convert {\n",
              "      background-color: #E8F0FE;\n",
              "      border: none;\n",
              "      border-radius: 50%;\n",
              "      cursor: pointer;\n",
              "      display: none;\n",
              "      fill: #1967D2;\n",
              "      height: 32px;\n",
              "      padding: 0 0 0 0;\n",
              "      width: 32px;\n",
              "    }\n",
              "\n",
              "    .colab-df-convert:hover {\n",
              "      background-color: #E2EBFA;\n",
              "      box-shadow: 0px 1px 2px rgba(60, 64, 67, 0.3), 0px 1px 3px 1px rgba(60, 64, 67, 0.15);\n",
              "      fill: #174EA6;\n",
              "    }\n",
              "\n",
              "    [theme=dark] .colab-df-convert {\n",
              "      background-color: #3B4455;\n",
              "      fill: #D2E3FC;\n",
              "    }\n",
              "\n",
              "    [theme=dark] .colab-df-convert:hover {\n",
              "      background-color: #434B5C;\n",
              "      box-shadow: 0px 1px 3px 1px rgba(0, 0, 0, 0.15);\n",
              "      filter: drop-shadow(0px 1px 2px rgba(0, 0, 0, 0.3));\n",
              "      fill: #FFFFFF;\n",
              "    }\n",
              "  </style>\n",
              "\n",
              "      <script>\n",
              "        const buttonEl =\n",
              "          document.querySelector('#df-9000026e-e10e-4bdb-9e52-e442736c085f button.colab-df-convert');\n",
              "        buttonEl.style.display =\n",
              "          google.colab.kernel.accessAllowed ? 'block' : 'none';\n",
              "\n",
              "        async function convertToInteractive(key) {\n",
              "          const element = document.querySelector('#df-9000026e-e10e-4bdb-9e52-e442736c085f');\n",
              "          const dataTable =\n",
              "            await google.colab.kernel.invokeFunction('convertToInteractive',\n",
              "                                                     [key], {});\n",
              "          if (!dataTable) return;\n",
              "\n",
              "          const docLinkHtml = 'Like what you see? Visit the ' +\n",
              "            '<a target=\"_blank\" href=https://colab.research.google.com/notebooks/data_table.ipynb>data table notebook</a>'\n",
              "            + ' to learn more about interactive tables.';\n",
              "          element.innerHTML = '';\n",
              "          dataTable['output_type'] = 'display_data';\n",
              "          await google.colab.output.renderOutput(dataTable, element);\n",
              "          const docLink = document.createElement('div');\n",
              "          docLink.innerHTML = docLinkHtml;\n",
              "          element.appendChild(docLink);\n",
              "        }\n",
              "      </script>\n",
              "    </div>\n",
              "  </div>\n",
              "  "
            ]
          },
          "metadata": {},
          "execution_count": 23
        }
      ]
    },
    {
      "cell_type": "code",
      "source": [
        "# correlation between variables\n",
        "with_formula_correlation = df[\"Mthly_HH_Income\"].corr(df[\"Mthly_HH_Expense\"])"
      ],
      "metadata": {
        "id": "9y8xCftnrKBa"
      },
      "execution_count": 24,
      "outputs": []
    },
    {
      "cell_type": "code",
      "source": [
        "numerator = sum((df[\"Mthly_HH_Income\"] - df[\"Mthly_HH_Income\"].mean()) * (df[\"Mthly_HH_Expense\"] - df[\"Mthly_HH_Expense\"].mean()))\n",
        "denominator = np.sqrt(sum(((df[\"Mthly_HH_Income\"] - df[\"Mthly_HH_Income\"].mean())**2)) * sum(((df[\"Mthly_HH_Expense\"] - df[\"Mthly_HH_Expense\"].mean())**2)))\n",
        "\n",
        "without_formula_correlation = numerator / denominator"
      ],
      "metadata": {
        "id": "Ys9LgFfFrQRO"
      },
      "execution_count": 25,
      "outputs": []
    },
    {
      "cell_type": "code",
      "source": [
        "print(int(with_formula_standard_deviation) == int(without_formula_standard_deviation))"
      ],
      "metadata": {
        "colab": {
          "base_uri": "https://localhost:8080/"
        },
        "id": "e8JP03qWrv1f",
        "outputId": "c077a7b7-4088-4f85-9658-7e89d35b8d36"
      },
      "execution_count": 26,
      "outputs": [
        {
          "output_type": "stream",
          "name": "stdout",
          "text": [
            "True\n"
          ]
        }
      ]
    },
    {
      "cell_type": "markdown",
      "source": [
        "# Normal Distribution:\n",
        "It's a type of distribution which is symmetrical plot around it's mean value.\n",
        "\n",
        "It's also, known as Gaussian Distribution.\n",
        "\n",
        "$$\n",
        "f(x)= {\\frac{1}{\\sigma\\sqrt{2\\pi}}}e^{- {\\frac {1}{2}} (\\frac {x-\\mu}{\\sigma})^2} \\\\\n",
        "where, \\\\\n",
        "f(x)\t=\tprobability \\ density \\ function \\\\\n",
        "\\sigma\t=\tstandard \\ deviation \\\\\n",
        "\\mu\t=\tmean \\\\\n",
        "$$"
      ],
      "metadata": {
        "id": "L8ZSwFNXG9kM"
      }
    },
    {
      "cell_type": "code",
      "source": [
        "import matplotlib.pyplot as plt\n",
        "import seaborn as sns\n",
        "\n",
        "# in our code example their is no bell-shaped curve hence, we don't have any normally distributed data in our loaded dataset\n",
        "sns.pairplot(df)"
      ],
      "metadata": {
        "colab": {
          "base_uri": "https://localhost:8080/",
          "height": 1000
        },
        "id": "-Qb9hj3sNoyB",
        "outputId": "959aa0b6-b525-4f48-8708-ac411fb737e4"
      },
      "execution_count": 27,
      "outputs": [
        {
          "output_type": "execute_result",
          "data": {
            "text/plain": [
              "<seaborn.axisgrid.PairGrid at 0x7f23d09767d0>"
            ]
          },
          "metadata": {},
          "execution_count": 27
        },
        {
          "output_type": "display_data",
          "data": {
            "text/plain": [
              "<Figure size 1080x1080 with 42 Axes>"
            ],
            "image/png": "[encoded data removed]"
          },
          "metadata": {
            "needs_background": "light"
          }
        }
      ]
    },
    {
      "cell_type": "markdown",
      "source": [
        "# Features of Normal Distribution\n",
        "\n",
        "Normal distribution has following features:\n",
        "\n",
        "<img src = \"https://www.statisticshowto.com/wp-content/uploads/2013/02/standard-normal-distribution.jpg\"/>\n",
        "\n",
        "Courtesy - [statisticshowto.com](https://statisticshowto.com)"
      ],
      "metadata": {
        "id": "Z5CREOJmOjx1"
      }
    },
    {
      "cell_type": "markdown",
      "source": [
        "### 1. Mean, median & mode is in center\n",
        "\n",
        "> It's mean because it's arithmetic average\n",
        "\n",
        "> It's mode because mean score happens most often (repeated frequently)\n",
        "\n",
        "> It's median because when scores are displayed from lowest to highest, hence mean is middle value, the median"
      ],
      "metadata": {
        "id": "TCRJT8peO1gW"
      }
    },
    {
      "cell_type": "markdown",
      "source": [
        "### 2. Frequency curve is bell-shaped\n",
        "\n",
        "> Bell-shape has perfect bilateral symmentry (left & right balances each other)\n",
        "\n",
        "> 50 % of value are above the mean and 50 % are below the mean"
      ],
      "metadata": {
        "id": "qeWGHmCOPdqm"
      }
    },
    {
      "cell_type": "markdown",
      "source": [
        "### 3. Area under curve is 1\n",
        "\n",
        "> If one calculates area under the curve it's always 1"
      ],
      "metadata": {
        "id": "glVOEcxzP4cn"
      }
    },
    {
      "cell_type": "markdown",
      "source": [
        "### 4. The probability of an event not to happen is 0:\n",
        "\n",
        "> There is 0 % chances of any of the event not happening in this distribution"
      ],
      "metadata": {
        "id": "KaNEAtytQCZG"
      }
    },
    {
      "cell_type": "markdown",
      "source": [
        "### 5. Sum of probability of all the event is 1\n",
        "\n",
        "> If one finds the summation of events in it will be 1 in this gaussian distribution"
      ],
      "metadata": {
        "id": "7eRzUlHXQGdm"
      }
    },
    {
      "cell_type": "markdown",
      "source": [
        "# Positively Skewed & Negatively Skewed Normal Distribution\n",
        "\n",
        "If one tail is longer than other, then \n",
        "such distribution is called skewed distribution.\n",
        "\n",
        "The are also, called asymmteric distribution.\n",
        "\n",
        "<img src = \"https://www.statisticshowto.com/wp-content/uploads/2014/02/pearson-mode-skewness.jpg\"/>\n",
        "\n",
        "Courtesy - [statisticshowto.com](https://statisticshowto.com)"
      ],
      "metadata": {
        "id": "yQQEUOGFQ6NG"
      }
    },
    {
      "cell_type": "markdown",
      "source": [
        "### Positively Skewed\n",
        "\n",
        "> Reason is that because long tail is in negative direction of x-axis\n",
        "\n",
        "> Mean is also, left of the peak"
      ],
      "metadata": {
        "id": "gqm7fMCxayi8"
      }
    },
    {
      "cell_type": "markdown",
      "source": [
        "### Negatively Skewed\n",
        "> Right-skewed distribution has right tail\n",
        "\n",
        "> Reason is that because long tail is in positive direction of x-axis\n",
        "\n",
        "> Mean is also, right of the peak"
      ],
      "metadata": {
        "id": "atitMBCubQhd"
      }
    },
    {
      "cell_type": "markdown",
      "source": [
        "# Effect on Mean, Median and Mode due to Skewness"
      ],
      "metadata": {
        "id": "QQX9yD2Gc3AN"
      }
    },
    {
      "cell_type": "markdown",
      "source": [
        "<img src = \"https://upload.wikimedia.org/wikipedia/commons/c/cc/Relationship_between_mean_and_median_under_different_skewness.png\"/>\n",
        "\n",
        "Courtesy - [wikipedia.org](https://wikimedia.org)\n",
        "\n",
        "In normal distribution mean, median and mode are same while these central tendency changes and becomes different when data gets skewed"
      ],
      "metadata": {
        "id": "_Mi1FZ9Td92c"
      }
    },
    {
      "cell_type": "markdown",
      "source": [
        "### Positively Skewed\n",
        "Here mean is pushed towards right side along the positive direction of x-axis\n",
        "\n",
        "While mode is found at the peak in unimodal data\n",
        "\n",
        "Further median can be found between mean and mode"
      ],
      "metadata": {
        "id": "CWfbEhPze3BO"
      }
    },
    {
      "cell_type": "markdown",
      "source": [
        "### Negatively Skewed\n",
        "Mean is found towards left most side of negative directed x-axis\n",
        "\n",
        "While mode is found at the peak in case of unimodal data\n",
        "\n",
        "Further median can be found between mean and mode"
      ],
      "metadata": {
        "id": "gjpX-4I2faA-"
      }
    },
    {
      "cell_type": "markdown",
      "source": [
        "# Explain QQ Plot and show the implementation of the same"
      ],
      "metadata": {
        "id": "AvV6lTotgj1k"
      }
    },
    {
      "cell_type": "markdown",
      "source": [
        "Q-Q plot is scatterplot created by plotting two sets of quantiles\n",
        "\n",
        "They plot quantiles of sample distribution against quantiles of a theoretical distribution\n",
        "\n",
        "\n",
        "It's very helpful if we quickly want to compare their distribution also, in finding whether they have same tails or not ?\n",
        "\n",
        "\n",
        "Points will form a line (almost and roughly) straight if they are of same distribution"
      ],
      "metadata": {
        "id": "jtM0s8KUgpFk"
      }
    },
    {
      "cell_type": "code",
      "source": [
        "# as our df[\"Mthly_HH_Expense\"] is right skewed you can see that from Q-Q plot\n",
        "import statsmodels.api as sm\n",
        "\n",
        "sm.qqplot(df[\"Mthly_HH_Expense\"].values, line ='s')\n",
        "plt.show()"
      ],
      "metadata": {
        "colab": {
          "base_uri": "https://localhost:8080/",
          "height": 334
        },
        "id": "pljg-qIvif8N",
        "outputId": "3820d29c-85b0-41b2-e48d-1a6b33881a7a"
      },
      "execution_count": 28,
      "outputs": [
        {
          "output_type": "stream",
          "name": "stderr",
          "text": [
            "/usr/local/lib/python3.7/dist-packages/statsmodels/tools/_testing.py:19: FutureWarning: pandas.util.testing is deprecated. Use the functions in the public API at pandas.testing instead.\n",
            "  import pandas.util.testing as tm\n"
          ]
        },
        {
          "output_type": "display_data",
          "data": {
            "text/plain": [
              "<Figure size 432x288 with 1 Axes>"
            ],
            "image/png": "[encoded data removed]"
          },
          "metadata": {
            "needs_background": "light"
          }
        }
      ]
    },
    {
      "cell_type": "markdown",
      "source": [
        "# Explain Box Cox and show the implementation of the same\n"
      ],
      "metadata": {
        "id": "8BWMUljqMws9"
      }
    },
    {
      "cell_type": "code",
      "source": [
        ""
      ],
      "metadata": {
        "id": "DZewO28mNmZL"
      },
      "execution_count": null,
      "outputs": []
    }
  ]
}